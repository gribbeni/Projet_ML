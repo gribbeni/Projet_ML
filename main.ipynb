{
 "cells": [
  {
   "cell_type": "code",
   "execution_count": 1,
   "metadata": {},
   "outputs": [],
   "source": [
    "import numpy as np\n",
    "import torch\n",
    "import torchvision\n",
    "import torchvision.transforms as transforms\n",
    "from torch.utils.data.sampler import SubsetRandomSampler\n",
    "from torchsampler import ImbalancedDatasetSampler\n",
    "import matplotlib.pyplot as plt\n",
    "import os\n",
    "from torch.optim import Adam\n",
    "from torch.nn import CrossEntropyLoss\n",
    "from functools import reduce\n",
    "import torch.optim as optim\n",
    "import torch.nn as nn\n",
    "import torch.nn.functional as F\n",
    "from sklearn.metrics import f1_score\n",
    "from sklearn.metrics import recall_score\n",
    "from sklearn.metrics import precision_score\n",
    "from sklearn.metrics import confusion_matrix\n",
    "from sklearn.metrics import roc_auc_score\n",
    "import pandas as pd\n",
    "import sklearn "
   ]
  },
  {
   "cell_type": "code",
   "execution_count": 2,
   "metadata": {},
   "outputs": [],
   "source": [
    "import loaders as l\n",
    "import models as m\n",
    "import train_eval as te"
   ]
  },
  {
   "cell_type": "code",
   "execution_count": null,
   "metadata": {},
   "outputs": [],
   "source": []
  },
  {
   "cell_type": "code",
   "execution_count": 3,
   "metadata": {},
   "outputs": [
    {
     "name": "stdout",
     "output_type": "stream",
     "text": [
      "26950\n",
      "64770\n"
     ]
    }
   ],
   "source": [
    "train_dir = \"C:/Users/33783/Desktop/start_deep/start_deep/Projet_ML/train_images\"\n",
    "test_dir = \"C:/Users/33783/Desktop/start_deep/start_deep/Projet_ML/test_images\"\n",
    "\n",
    "transform = transforms.Compose(\n",
    "    [transforms.Grayscale(), \n",
    "     transforms.ToTensor(), \n",
    "     transforms.Normalize(mean=(0,),std=(1,))])\n",
    "\n",
    "valid_size = 0.2\n",
    "batch_size = 32\n",
    "\n",
    "train_loader,valid_loader,test_loader=l.make_all_loaders(train_dir,test_dir,transform,valid_size,batch_size)\n",
    "classes = ('noface','face')\n",
    "\n",
    "print(train_loader.dataset.targets.count(0))\n",
    "print(train_loader.dataset.targets.count(1))\n"
   ]
  },
  {
   "cell_type": "code",
   "execution_count": 4,
   "metadata": {},
   "outputs": [
    {
     "name": "stdout",
     "output_type": "stream",
     "text": [
      "BaseNet_v4(\n",
      "  (conv1): Conv2d(1, 32, kernel_size=(5, 5), stride=(1, 1))\n",
      "  (pool): MaxPool2d(kernel_size=2, stride=2, padding=0, dilation=1, ceil_mode=False)\n",
      "  (conv2): Conv2d(32, 20, kernel_size=(3, 3), stride=(1, 1))\n",
      "  (conv3): Conv2d(20, 18, kernel_size=(3, 3), stride=(1, 1))\n",
      "  (conv4): Conv2d(18, 16, kernel_size=(3, 3), stride=(1, 1))\n",
      "  (dropout): Dropout(p=0.2, inplace=False)\n",
      "  (fc1): Linear(in_features=400, out_features=256, bias=True)\n",
      "  (fc2): Linear(in_features=256, out_features=84, bias=True)\n",
      "  (fc3): Linear(in_features=84, out_features=2, bias=True)\n",
      "  (softmax): LogSoftmax(dim=1)\n",
      ")\n",
      "cuda:0\n",
      "Started Training\n",
      "[ 1, 2000] loss: 0.124 f1_score on validation set : 0.982\n",
      "[ 2, 2000] loss: 0.033 f1_score on validation set : 0.992\n",
      "[ 3, 2000] loss: 0.020 f1_score on validation set : 0.995\n",
      "[ 4, 2000] loss: 0.015 f1_score on validation set : 0.996\n",
      "[ 5, 2000] loss: 0.012 f1_score on validation set : 0.997\n",
      "[ 6, 2000] loss: 0.012 f1_score on validation set : 0.994\n",
      "[ 7, 2000] loss: 0.008 f1_score on validation set : 0.994\n",
      "[ 8, 2000] loss: 0.010 f1_score on validation set : 0.997\n",
      "[ 9, 2000] loss: 0.010 f1_score on validation set : 0.996\n",
      "[10, 2000] loss: 0.007 f1_score on validation set : 0.997\n",
      "[11, 2000] loss: 0.008 f1_score on validation set : 0.995\n",
      "[12, 2000] loss: 0.006 f1_score on validation set : 0.997\n",
      "[13, 2000] loss: 0.008 f1_score on validation set : 0.991\n",
      "[14, 2000] loss: 0.006 f1_score on validation set : 0.997\n",
      "[15, 2000] loss: 0.006 f1_score on validation set : 0.999\n",
      "[16, 2000] loss: 0.007 f1_score on validation set : 0.996\n",
      "[17, 2000] loss: 0.006 f1_score on validation set : 0.998\n",
      "[18, 2000] loss: 0.005 f1_score on validation set : 0.997\n",
      "[19, 2000] loss: 0.005 f1_score on validation set : 0.997\n",
      "[20, 2000] loss: 0.005 f1_score on validation set : 0.998\n",
      "[21, 2000] loss: 0.006 f1_score on validation set : 0.997\n",
      "[22, 2000] loss: 0.006 f1_score on validation set : 0.997\n",
      "[23, 2000] loss: 0.005 f1_score on validation set : 0.997\n",
      "[24, 2000] loss: 0.004 f1_score on validation set : 0.998\n",
      "[25, 2000] loss: 0.005 f1_score on validation set : 0.997\n",
      "[26, 2000] loss: 0.004 f1_score on validation set : 0.998\n",
      "[27, 2000] loss: 0.007 f1_score on validation set : 0.998\n",
      "[28, 2000] loss: 0.003 f1_score on validation set : 0.997\n",
      "[29, 2000] loss: 0.006 f1_score on validation set : 0.998\n",
      "[30, 2000] loss: 0.006 f1_score on validation set : 0.995\n",
      "Finished Training\n"
     ]
    },
    {
     "data": {
      "image/png": "[encoded data removed]",
      "text/plain": [
       "<Figure size 432x288 with 2 Axes>"
      ]
     },
     "metadata": {
      "needs_background": "light"
     },
     "output_type": "display_data"
    }
   ],
   "source": [
    "net = m.BaseNet_v4()\n",
    "print(net)\n",
    "device = torch.device(\"cuda:0\" if torch.cuda.is_available() else \"cpu\")\n",
    "print(device)\n",
    "net.to(device)\n",
    "\n",
    "criterion = nn.CrossEntropyLoss()\n",
    "optimizer = optim.Adam(net.parameters(), lr=0.001)\n",
    "#optim.Adam(net.parameters(), lr=0.001)\n",
    "#optim.SGD(net.parameters(), lr=0.001, momentum=0.9)\n",
    "\n",
    "epochs=30\n",
    "\n",
    "#Training\n",
    "print(\"Started Training\")\n",
    "all_losses,all_accuracies,all_f1scores,all_roc_aucc,best_params= te.train_v1(net,criterion,optimizer,epochs,train_loader,valid_loader,device)\n",
    "            \n",
    "#plt.plot(all_losses, color='blue')\n",
    "#plt.plot(all_f1scores, color='red')\n",
    "plt.subplot(2, 1, 1)\n",
    "plt.plot(all_f1scores, color='red')\n",
    "plt.title('Evolution of f1 score during epochs')\n",
    "plt.subplot(2, 1, 2)\n",
    "plt.plot(all_losses, color='blue')\n",
    "plt.title('Evolution of losses during epochs')\n",
    "plt.tight_layout()\n",
    "\n",
    "\n",
    "print(\"Finished Training\")"
   ]
  },
  {
   "cell_type": "code",
   "execution_count": null,
   "metadata": {},
   "outputs": [],
   "source": [
    "#sauvegarder celui avec les meilleures metrics et pas le dernier"
   ]
  },
  {
   "cell_type": "code",
   "execution_count": 7,
   "metadata": {},
   "outputs": [],
   "source": [
    "saved_model_path='C:/Users/33783/Desktop/start_deep/start_deep/Projet_ML/test_v4'\n",
    "torch.save(best_params, saved_model_path )"
   ]
  },
  {
   "cell_type": "code",
   "execution_count": null,
   "metadata": {},
   "outputs": [],
   "source": []
  },
  {
   "cell_type": "code",
   "execution_count": 9,
   "metadata": {},
   "outputs": [
    {
     "name": "stdout",
     "output_type": "stream",
     "text": [
      "BaseNet_v4(\n",
      "  (conv1): Conv2d(1, 32, kernel_size=(5, 5), stride=(1, 1))\n",
      "  (pool): MaxPool2d(kernel_size=2, stride=2, padding=0, dilation=1, ceil_mode=False)\n",
      "  (conv2): Conv2d(32, 20, kernel_size=(3, 3), stride=(1, 1))\n",
      "  (conv3): Conv2d(20, 18, kernel_size=(3, 3), stride=(1, 1))\n",
      "  (conv4): Conv2d(18, 16, kernel_size=(3, 3), stride=(1, 1))\n",
      "  (dropout): Dropout(p=0.2, inplace=False)\n",
      "  (fc1): Linear(in_features=400, out_features=256, bias=True)\n",
      "  (fc2): Linear(in_features=256, out_features=84, bias=True)\n",
      "  (fc3): Linear(in_features=84, out_features=2, bias=True)\n",
      "  (softmax): LogSoftmax(dim=1)\n",
      ")\n"
     ]
    }
   ],
   "source": [
    "net = m.BaseNet_v4()\n",
    "net.load_state_dict(torch.load(saved_model_path))\n",
    "net.to(device)\n",
    "print(net)\n",
    "#saved_model_path='C:/Users/33783/Desktop/start_deep/start_deep/Projet_ML/BaseNet_v2_lo0001_30ep'\n",
    "#torch.save(net.state_dict(), saved_model_path )"
   ]
  },
  {
   "cell_type": "code",
   "execution_count": 5,
   "metadata": {},
   "outputs": [
    {
     "data": {
      "text/plain": [
       "Text(0.5, 1.0, 'ROC curve during epochs')"
      ]
     },
     "execution_count": 5,
     "metadata": {},
     "output_type": "execute_result"
    },
    {
     "data": {
      "image/png": "[encoded data removed]",
      "text/plain": [
       "<Figure size 432x288 with 1 Axes>"
      ]
     },
     "metadata": {
      "needs_background": "light"
     },
     "output_type": "display_data"
    }
   ],
   "source": [
    "\n",
    "plt.plot(all_roc_aucc, color='blue')\n",
    "plt.title('ROC curve during epochs')\n",
    "#f1,_,_,_,roc = te.calc_metrics_v1(net,test_loader,False)\n",
    "#print(f1)\n",
    "#print(roc)\n",
    "#s=roc_auc_score(all_labels, all_predicted)\n",
    "#print(s)"
   ]
  },
  {
   "cell_type": "code",
   "execution_count": 12,
   "metadata": {},
   "outputs": [
    {
     "name": "stdout",
     "output_type": "stream",
     "text": [
      "Validation set\n",
      "f1_score  0.9491702815776993\n",
      "precision  0.9546226538799536\n",
      "recall  0.9542475091767174\n",
      "confusion matrix\n",
      "           0         1\n",
      "0  0.997365  0.002635\n",
      "1  0.415307  0.584693\n"
     ]
    },
    {
     "data": {
      "text/plain": [
       "<AxesSubplot:>"
      ]
     },
     "execution_count": 12,
     "metadata": {},
     "output_type": "execute_result"
    },
    {
     "data": {
      "image/png": "[encoded data removed]",
      "text/plain": [
       "<Figure size 432x288 with 2 Axes>"
      ]
     },
     "metadata": {
      "needs_background": "light"
     },
     "output_type": "display_data"
    }
   ],
   "source": [
    "import seaborn as sns\n",
    "_,_,_,cm,_=te.calc_metrics_v1(net,test_loader,True,device) \n",
    "sns.heatmap(cm, annot=True, fmt='.2%', cmap='Blues')"
   ]
  },
  {
   "cell_type": "code",
   "execution_count": null,
   "metadata": {},
   "outputs": [],
   "source": []
  },
  {
   "cell_type": "code",
   "execution_count": null,
   "metadata": {},
   "outputs": [],
   "source": [
    "correct = 0\n",
    "total = 0\n",
    "with torch.no_grad():\n",
    "    for data in test_loader:\n",
    "        images, labels = data\n",
    "        outputs = net(images)\n",
    "        _, predicted = torch.max(outputs.data, 1)\n",
    "        total += labels.size(0)\n",
    "        correct += (predicted == labels).sum().item()\n",
    "\n",
    "print('Accuracy of the network on the test images: %d %%' % (\n",
    "    100 * correct / total))"
   ]
  },
  {
   "cell_type": "code",
   "execution_count": null,
   "metadata": {},
   "outputs": [],
   "source": [
    "class_correct = list(0. for i in range(10))\n",
    "class_total = list(0. for i in range(10))\n",
    "with torch.no_grad():\n",
    "    for data in test_loader:\n",
    "        images, labels = data\n",
    "        outputs = net(images)\n",
    "        _, predicted = torch.max(outputs, 1)\n",
    "        c = (predicted == labels).squeeze()\n",
    "        for i in range(4):\n",
    "            label = labels[i]\n",
    "            class_correct[label] += c[i].item()\n",
    "            class_total[label] += 1\n",
    "\n",
    "\n",
    "for i in range(2):\n",
    "    print('Accuracy of %5s : %2d %%' % (\n",
    "        classes[i], 100 * class_correct[i] / class_total[i]))"
   ]
  },
  {
   "cell_type": "code",
   "execution_count": null,
   "metadata": {},
   "outputs": [],
   "source": []
  },
  {
   "cell_type": "code",
   "execution_count": null,
   "metadata": {},
   "outputs": [],
   "source": []
  },
  {
   "cell_type": "code",
   "execution_count": null,
   "metadata": {},
   "outputs": [],
   "source": []
  }
 ],
 "metadata": {
  "kernelspec": {
   "display_name": "Python 3",
   "language": "python",
   "name": "python3"
  },
  "language_info": {
   "codemirror_mode": {
    "name": "ipython",
    "version": 3
   },
   "file_extension": ".py",
   "mimetype": "text/x-python",
   "name": "python",
   "nbconvert_exporter": "python",
   "pygments_lexer": "ipython3",
   "version": "3.8.5"
  }
 },
 "nbformat": 4,
 "nbformat_minor": 4
}
