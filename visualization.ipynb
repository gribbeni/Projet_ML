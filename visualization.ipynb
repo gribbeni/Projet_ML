{
 "cells": [
  {
   "cell_type": "code",
   "execution_count": 15,
   "metadata": {},
   "outputs": [],
   "source": [
    "import numpy as np\n",
    "import torch\n",
    "import torchvision\n",
    "import torchvision.transforms as transforms\n",
    "from torch.utils.data.sampler import SubsetRandomSampler\n",
    "from torchsampler import ImbalancedDatasetSampler\n",
    "import matplotlib.pyplot as plt\n",
    "import os\n",
    "from torch.optim import Adam\n",
    "from torch.nn import CrossEntropyLoss\n",
    "from functools import reduce\n",
    "import torch.optim as optim\n",
    "import torch.nn as nn\n",
    "import torch.nn.functional as F\n",
    "from sklearn.metrics import f1_score\n",
    "from sklearn.metrics import recall_score\n",
    "from sklearn.metrics import precision_score\n",
    "from sklearn.metrics import confusion_matrix\n",
    "import pandas as pd\n",
    "import sklearn "
   ]
  },
  {
   "cell_type": "code",
   "execution_count": 16,
   "metadata": {},
   "outputs": [],
   "source": [
    "import loaders as l"
   ]
  },
  {
   "cell_type": "code",
   "execution_count": 17,
   "metadata": {},
   "outputs": [],
   "source": [
    "#Histogramme montrant le nombre d'images en fonction des classes sur dataset non équilibré\n",
    "def get_images_classes(dataset):\n",
    "    images_classes = []\n",
    "    for images in dataset:\n",
    "        images_classes.append(images[1])\n",
    "    return images_classes\n",
    "\n",
    "def plot_hist_images_classes(dataset, name_dataset = \"\"):\n",
    "\n",
    "    images_classes= get_images_classes(dataset)\n",
    "    fig = plt.figure()\n",
    "    ax = fig.add_axes([0,0,1,1])\n",
    "    image_types = ['No Face', 'Face']\n",
    "    nb_images = [images_classes.count(0), images_classes.count(1)]\n",
    "    ax.bar(image_types,nb_images)\n",
    "    plt.show()\n",
    "\n",
    "    print(\"number of images with no faces in the dataset {} : {} \".format(name_dataset,images_classes.count(0)))\n",
    "    print(\"number of images with faces in the dataset {} : {}\".format(name_dataset,images_classes.count(1)))\n",
    "    \n",
    "def classes_in_loader(loader):\n",
    "    face=0\n",
    "    noFace=0\n",
    "    for i, data in enumerate(loader, 0):\n",
    "                # get the inputs; data is a list of [inputs, labels]\n",
    "                inputs, labels = data\n",
    "                for l in labels : \n",
    "                    if l==0 : \n",
    "                        noFace+=1\n",
    "                    else : \n",
    "                        face+=1\n",
    "    \n",
    "    return noFace, face"
   ]
  },
  {
   "cell_type": "code",
   "execution_count": 18,
   "metadata": {},
   "outputs": [],
   "source": [
    "train_dir = 'C:/Users/33783/Desktop/start_deep/start_deep/Projet_ML/train_images'\n",
    "test_dir = 'C:/Users/33783/Desktop/start_deep/start_deep/Projet_ML/test_images'\n",
    "\n",
    "transform = transforms.Compose(\n",
    "    [transforms.Grayscale(), \n",
    "     transforms.ToTensor(), \n",
    "     transforms.Normalize(mean=(0,),std=(1,))])\n",
    "\n",
    "valid_size = 0.2\n",
    "batch_size = 32\n",
    "\n",
    "train_loader,valid_loader,test_loader=l.make_all_loaders(train_dir,test_dir,transform,valid_size,batch_size)\n",
    "\n",
    "classes = ('noface','face')\n",
    "\n",
    "\n"
   ]
  },
  {
   "cell_type": "code",
   "execution_count": null,
   "metadata": {},
   "outputs": [],
   "source": [
    "train_data = torchvision.datasets.ImageFolder(train_dir, transform=transform)\n",
    "test_data = torchvision.datasets.ImageFolder(test_dir, transform=transform)\n",
    "print('Train data')\n",
    "plot_hist_images_classes(train_data)\n",
    "print('Test data')\n",
    "plot_hist_images_classes(test_data)"
   ]
  },
  {
   "cell_type": "code",
   "execution_count": 20,
   "metadata": {},
   "outputs": [
    {
     "name": "stdout",
     "output_type": "stream",
     "text": [
      "No Face, Face\n",
      "Train\n",
      "(36917, 36459)\n",
      "Validation\n",
      "(9262, 9082)\n",
      "Test\n",
      "(6831, 797)\n"
     ]
    }
   ],
   "source": [
    "classes_in_trainL=classes_in_loader(train_loader)\n",
    "classes_in_validL=classes_in_loader(valid_loader)\n",
    "classes_in_testL=classes_in_loader(test_loader)\n",
    "print(\"No Face, Face\")\n",
    "print(\"Train\")\n",
    "print(classes_in_trainL)\n",
    "print(\"Validation\")\n",
    "print(classes_in_validL)\n",
    "print(\"Test\")\n",
    "print(classes_in_testL)"
   ]
  },
  {
   "cell_type": "code",
   "execution_count": null,
   "metadata": {},
   "outputs": [],
   "source": []
  }
 ],
 "metadata": {
  "kernelspec": {
   "display_name": "Python 3",
   "language": "python",
   "name": "python3"
  },
  "language_info": {
   "codemirror_mode": {
    "name": "ipython",
    "version": 3
   },
   "file_extension": ".py",
   "mimetype": "text/x-python",
   "name": "python",
   "nbconvert_exporter": "python",
   "pygments_lexer": "ipython3",
   "version": "3.8.5"
  }
 },
 "nbformat": 4,
 "nbformat_minor": 4
}
