{
 "cells": [
  {
   "cell_type": "code",
   "execution_count": 2,
   "metadata": {},
   "outputs": [],
   "source": [
    "import numpy as np\n",
    "import torch\n",
    "import torchvision\n",
    "import torchvision.transforms as transforms\n",
    "from torch.utils.data.sampler import SubsetRandomSampler\n",
    "from torchsampler import ImbalancedDatasetSampler\n",
    "import matplotlib.pyplot as plt\n",
    "import os\n",
    "from torch.optim import Adam\n",
    "from torch.nn import CrossEntropyLoss\n",
    "from functools import reduce\n",
    "import torch.optim as optim\n",
    "import torch.nn as nn\n",
    "import torch.nn.functional as F\n",
    "from sklearn.metrics import f1_score\n",
    "from sklearn.metrics import recall_score\n",
    "from sklearn.metrics import precision_score\n",
    "from sklearn.metrics import confusion_matrix"
   ]
  },
  {
   "cell_type": "code",
   "execution_count": 3,
   "metadata": {},
   "outputs": [],
   "source": [
    "def make_simplers(train_data,valid_size):\n",
    "    \n",
    "    num_train = len(train_data)\n",
    "    indices_train = list(range(num_train))\n",
    "    np.random.shuffle(indices_train)\n",
    "    split_tv = int(np.floor(valid_size * num_train))\n",
    "    train_new_idx, valid_idx = indices_train[split_tv:],indices_train[:split_tv]\n",
    "\n",
    "    train_sampler = ImbalancedDatasetSampler(train_data,indices=train_new_idx)\n",
    "    valid_sampler = ImbalancedDatasetSampler(train_data,indices=valid_idx)\n",
    "    \n",
    "    return train_sampler,valid_sampler\n",
    "\n",
    "def make_train_val_loader(train_dir,transform,valid_size,batch_size) : \n",
    "    \n",
    "    train_data = torchvision.datasets.ImageFolder(train_dir, transform=transform)\n",
    "    \n",
    "    train_sampler,valid_sampler = make_simplers(train_data, valid_size)\n",
    "    \n",
    "    train_loader = torch.utils.data.DataLoader(train_data, batch_size=batch_size, sampler=train_sampler, num_workers=1)\n",
    "    valid_loader = torch.utils.data.DataLoader(train_data, batch_size=batch_size, sampler=valid_sampler, num_workers=1)\n",
    "    \n",
    "    return train_loader,valid_loader\n",
    "\n",
    "def make_test_loader(test_dir,transform):\n",
    "    \n",
    "    test_data = torchvision.datasets.ImageFolder(test_dir, transform=transform)\n",
    "    \n",
    "    test_loader = torch.utils.data.DataLoader(test_data, batch_size=batch_size, shuffle=True, num_workers=1)\n",
    "    \n",
    "    return test_loader\n",
    "\n",
    "def make_all_loaders(train_dir,test_dir,transform,valid_size,batch_size):\n",
    "    \n",
    "    train_loader,valid_loader = make_train_val_loader(train_dir,transform,valid_size,batch_size)\n",
    "    \n",
    "    test_loader=make_test_loader(test_dir,transform)\n",
    "    \n",
    "    return train_loader,valid_loader,test_loader"
   ]
  },
  {
   "cell_type": "code",
   "execution_count": 4,
   "metadata": {},
   "outputs": [
    {
     "name": "stdout",
     "output_type": "stream",
     "text": [
      "\n",
      "Noface in train data 26950\n",
      "Face in train data 64770\n",
      "\n",
      "Noface in test data 6831\n",
      "Face in test data 797\n",
      "\n"
     ]
    }
   ],
   "source": [
    "#Uncomment to test\n",
    "'''\n",
    "train_dir = 'C:/Users/33783/Desktop/start_deep/start_deep/Projet_ML/train_images'\n",
    "test_dir = 'C:/Users/33783/Desktop/start_deep/start_deep/Projet_ML/test_images'\n",
    "\n",
    "transform = transforms.Compose(\n",
    "    [transforms.Grayscale(), \n",
    "     transforms.ToTensor(), \n",
    "     transforms.Normalize(mean=(0,),std=(1,))])\n",
    "\n",
    "valid_size = 0.2\n",
    "batch_size = 32\n",
    "\n",
    "train_loader,valid_loader,test_loader=make_all_loaders(train_dir,test_dir,transform,valid_size,batch_size)\n",
    "classes = ('noface','face')\n",
    "\n",
    "print()\n",
    "print('Noface in train data', train_loader.dataset.targets.count(0))\n",
    "print('Face in train data',train_loader.dataset.targets.count(1))\n",
    "print()\n",
    "print('Noface in test data',test_loader.dataset.targets.count(0))\n",
    "print('Face in test data',test_loader.dataset.targets.count(1))\n",
    "print()\n",
    "'''"
   ]
  },
  {
   "cell_type": "code",
   "execution_count": null,
   "metadata": {},
   "outputs": [],
   "source": []
  }
 ],
 "metadata": {
  "kernelspec": {
   "display_name": "Python 3",
   "language": "python",
   "name": "python3"
  },
  "language_info": {
   "codemirror_mode": {
    "name": "ipython",
    "version": 3
   },
   "file_extension": ".py",
   "mimetype": "text/x-python",
   "name": "python",
   "nbconvert_exporter": "python",
   "pygments_lexer": "ipython3",
   "version": "3.8.5"
  }
 },
 "nbformat": 4,
 "nbformat_minor": 4
}
