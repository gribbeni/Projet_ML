{
 "cells": [
  {
   "cell_type": "code",
   "execution_count": 1,
   "metadata": {},
   "outputs": [],
   "source": [
    "import numpy as np\n",
    "import torch\n",
    "import torchvision\n",
    "import torchvision.transforms as transforms\n",
    "from torch.utils.data.sampler import SubsetRandomSampler\n",
    "from torchsampler import ImbalancedDatasetSampler\n",
    "import matplotlib.pyplot as plt\n",
    "import os\n",
    "from torch.optim import Adam\n",
    "from torch.nn import CrossEntropyLoss\n",
    "from functools import reduce\n",
    "import torch.optim as optim\n",
    "import torch.nn as nn\n",
    "import torch.nn.functional as F\n",
    "from sklearn.metrics import f1_score\n",
    "from sklearn.metrics import recall_score\n",
    "from sklearn.metrics import precision_score\n",
    "from sklearn.metrics import confusion_matrix\n",
    "import pandas as pd\n",
    "import sklearn \n",
    "from torch.autograd import Variable"
   ]
  },
  {
   "cell_type": "code",
   "execution_count": 2,
   "metadata": {},
   "outputs": [],
   "source": [
    "import loaders as l\n",
    "import models as m\n",
    "import train_eval as te"
   ]
  },
  {
   "cell_type": "code",
   "execution_count": 3,
   "metadata": {},
   "outputs": [],
   "source": [
    "import cv2"
   ]
  },
  {
   "cell_type": "code",
   "execution_count": 4,
   "metadata": {},
   "outputs": [],
   "source": [
    "\n",
    "from ImageClassification import helpers as h\n",
    "import argparse\n",
    "import time"
   ]
  },
  {
   "cell_type": "code",
   "execution_count": 5,
   "metadata": {},
   "outputs": [
    {
     "data": {
      "text/plain": [
       "<All keys matched successfully>"
      ]
     },
     "execution_count": 5,
     "metadata": {},
     "output_type": "execute_result"
    }
   ],
   "source": [
    "saved_model_path='C:/Users/33783/Desktop/start_deep/start_deep/Projet_ML/firstModel2'\n",
    "net = m.BaseNet_v3()\n",
    "net.load_state_dict(torch.load(saved_model_path))"
   ]
  },
  {
   "cell_type": "code",
   "execution_count": 6,
   "metadata": {},
   "outputs": [
    {
     "name": "stdout",
     "output_type": "stream",
     "text": [
      "[0, 50.0, 10.0, array(0.9180417, dtype=float32)]\n",
      "[0, 220.0, 20.0, array(0.9962572, dtype=float32)]\n",
      "[0, 250.0, 20.0, array(0.99993527, dtype=float32)]\n",
      "[0, 40.0, 40.0, array(0.9840551, dtype=float32)]\n",
      "[0, 320.0, 70.0, array(0.9983094, dtype=float32)]\n",
      "[0, 130.0, 90.0, array(0.925615, dtype=float32)]\n",
      "[0, 140.0, 90.0, array(0.99261343, dtype=float32)]\n",
      "[0, 170.0, 90.0, array(0.9969426, dtype=float32)]\n",
      "[0, 310.0, 170.0, array(0.9963611, dtype=float32)]\n",
      "[0, 240.0, 190.0, array(0.9159373, dtype=float32)]\n",
      "[1, 36.0, 36.0, array(0.9722863, dtype=float32)]\n",
      "[1, 204.0, 36.0, array(0.9870494, dtype=float32)]\n",
      "[1, 24.0, 120.0, array(0.997775, dtype=float32)]\n",
      "[1, 240.0, 180.0, array(0.9328685, dtype=float32)]\n",
      "[1, 252.0, 252.0, array(0.999995, dtype=float32)]\n",
      "[2, 172.79999999999998, 86.39999999999999, array(0.975999, dtype=float32)]\n",
      "[2, 86.39999999999999, 144.0, array(0.96541226, dtype=float32)]\n",
      "[2, 100.8, 144.0, array(0.93168277, dtype=float32)]\n",
      "[2, 288.0, 216.0, array(0.9931525, dtype=float32)]\n",
      "[3, 241.91999999999996, 69.11999999999999, array(0.9998702, dtype=float32)]\n",
      "[3, 172.79999999999998, 86.39999999999999, array(0.9447887, dtype=float32)]\n",
      "[4, 165.88799999999998, 41.471999999999994, array(0.9960218, dtype=float32)]\n",
      "[4, 165.88799999999998, 82.94399999999999, array(0.99604887, dtype=float32)]\n",
      "[5, 248.83199999999994, 24.883199999999995, array(0.97285664, dtype=float32)]\n",
      "[5, 124.41599999999997, 74.64959999999998, array(0.947419, dtype=float32)]\n",
      "25\n"
     ]
    }
   ],
   "source": [
    "cv2.destroyAllWindows() \n",
    "# load the image and define the window width and height\n",
    "from PIL import Image\n",
    "from matplotlib import cm\n",
    "image = cv2.imread(\"C:/Users/33783/Desktop/start_deep/start_deep/Projet_ML/test.jpg\")\n",
    "(winW, winH) = (36, 36)\n",
    "transform = transforms.Compose(\n",
    "    [transforms.Grayscale(), \n",
    "     transforms.ToTensor(), \n",
    "     transforms.Normalize(mean=(0,),std=(1,))])\n",
    "face_detected=0\n",
    "layer=0\n",
    "color_face=(255,0,0)\n",
    "color_noFace=(0, 255, 0)\n",
    "sleep=0.0015\n",
    "detected_faces=[]\n",
    "sc=1.2\n",
    "\n",
    "# loop over the image pyramid\n",
    "for resized in h.pyramid(image, scale=sc):\n",
    "    \n",
    "    # loop over the sliding window for each layer of the pyramid\n",
    "    \n",
    "    \n",
    "    for (x, y, window) in h.sliding_window(resized, stepSize=10, windowSize=(winW, winH)):\n",
    "        # if the window does not meet our desired window size, ignore it\n",
    "        if window.shape[0] != winH or window.shape[1] != winW:\n",
    "            continue\n",
    "\n",
    "        # THIS IS WHERE YOU WOULD PROCESS YOUR WINDOW, SUCH AS APPLYING A\n",
    "        # MACHINE LEARNING CLASSIFIER TO CLASSIFY THE CONTENTS OF THE\n",
    "        # WINDOW\n",
    "        color=color_noFace\n",
    "        sleep=0.005\n",
    "\n",
    "        im = Image.fromarray(window.astype('uint8'), 'RGB')\n",
    "        im=transform(im)\n",
    "        im = im.unsqueeze(0)\n",
    "        outputs=net(im)\n",
    "        prob=torch.nn.functional.softmax(outputs, dim=1).detach()[0][1].numpy()\n",
    "        #print(prob)\n",
    "        y_pred_softmax = torch.log_softmax(outputs, dim = 1)\n",
    "        _, y_pred_tags = torch.max(y_pred_softmax, dim = 1)\n",
    "        prediction=np.array(y_pred_tags)\n",
    " \n",
    "        new_face=[]\n",
    "        if prediction==1 and prob>0.9:\n",
    "            face_detected+=1\n",
    "            new_face.append(layer)\n",
    "            new_face.append(x*pow(sc,layer))\n",
    "            new_face.append(y*pow(sc,layer))\n",
    "            new_face.append((prob))\n",
    "            detected_faces.append(new_face)\n",
    "            print(new_face)\n",
    "            color=color_face\n",
    "            sleep=0.5\n",
    "        \n",
    "            \n",
    "        #draw the window\n",
    "        clone = resized.copy()\n",
    "        cv2.rectangle(clone, (x, y), (x + winW, y + winH), color, 2)\n",
    "        cv2.imshow(\"Window\", clone)\n",
    "        cv2.waitKey(1)\n",
    "        time.sleep(sleep)\n",
    "        \n",
    "    layer+=1\n",
    "        \n",
    "print(face_detected)\n",
    "cv2.waitKey(1)\n",
    "cv2.destroyAllWindows() \n",
    "\n"
   ]
  },
  {
   "cell_type": "code",
   "execution_count": 10,
   "metadata": {},
   "outputs": [],
   "source": [
    "cv2.destroyAllWindows() "
   ]
  },
  {
   "cell_type": "code",
   "execution_count": 8,
   "metadata": {},
   "outputs": [
    {
     "data": {
      "text/plain": [
       "-1"
      ]
     },
     "execution_count": 8,
     "metadata": {},
     "output_type": "execute_result"
    }
   ],
   "source": [
    "cv2.destroyAllWindows() \n",
    "nb_layers=detected_faces[-1][0]\n",
    "\n",
    "\n",
    "for i in detected_faces : \n",
    "\n",
    "\n",
    "    x=i[1]+(winW*pow(1.2,i[0])/2)\n",
    "    y=i[2]+(winH*pow(1.2,i[0])/2)\n",
    "\n",
    "    #cv2.circle(image, (int(x), int(y)), 1,color_face, 3)\n",
    "\n",
    "    cv2.rectangle(image, (int(i[1]), int(i[2])), (int(i[1]) +int(winW*pow(sc,i[0])), int(i[2]) + int(winH*pow(sc,i[0]))), color_face, 2)\n",
    "\n",
    "cv2.imshow(\"Layer\", image)\n",
    "\n",
    "cv2.waitKey(1)\n",
    "#cv2.destroyAllWindows() \n"
   ]
  },
  {
   "cell_type": "code",
   "execution_count": 9,
   "metadata": {},
   "outputs": [],
   "source": [
    "#cv2.destroyAllWindows() "
   ]
  },
  {
   "cell_type": "code",
   "execution_count": null,
   "metadata": {},
   "outputs": [],
   "source": []
  },
  {
   "cell_type": "code",
   "execution_count": null,
   "metadata": {},
   "outputs": [],
   "source": []
  }
 ],
 "metadata": {
  "kernelspec": {
   "display_name": "Python 3",
   "language": "python",
   "name": "python3"
  },
  "language_info": {
   "codemirror_mode": {
    "name": "ipython",
    "version": 3
   },
   "file_extension": ".py",
   "mimetype": "text/x-python",
   "name": "python",
   "nbconvert_exporter": "python",
   "pygments_lexer": "ipython3",
   "version": "3.8.5"
  }
 },
 "nbformat": 4,
 "nbformat_minor": 4
}
