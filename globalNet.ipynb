{
 "cells": [
  {
   "cell_type": "code",
   "execution_count": null,
   "metadata": {},
   "outputs": [],
   "source": [
    "import numpy as np\n",
    "import torch\n",
    "import torchvision\n",
    "import torchvision.transforms as transforms\n",
    "from torch.utils.data.sampler import SubsetRandomSampler\n",
    "from torchsampler import ImbalancedDatasetSampler\n",
    "import matplotlib.pyplot as plt\n",
    "import os\n",
    "from torch.optim import Adam\n",
    "from torch.nn import CrossEntropyLoss\n",
    "from functools import reduce\n",
    "import torch.optim as optim\n",
    "import torch.nn as nn\n",
    "import torch.nn.functional as F\n",
    "from sklearn.metrics import f1_score\n",
    "from sklearn.metrics import recall_score\n",
    "from sklearn.metrics import precision_score\n",
    "from sklearn.metrics import confusion_matrix\n",
    "import pandas as pd\n",
    "import sklearn \n",
    "from torch.autograd import Variable\n",
    "from sklearn.cluster import KMeans"
   ]
  },
  {
   "cell_type": "code",
   "execution_count": null,
   "metadata": {},
   "outputs": [],
   "source": [
    "import loaders as l\n",
    "import models as m\n",
    "import train_eval as te"
   ]
  },
  {
   "cell_type": "code",
   "execution_count": null,
   "metadata": {},
   "outputs": [],
   "source": [
    "import cv2"
   ]
  },
  {
   "cell_type": "code",
   "execution_count": null,
   "metadata": {},
   "outputs": [],
   "source": [
    "\n",
    "from ImageClassification import helpers as h\n",
    "import argparse\n",
    "import time"
   ]
  },
  {
   "cell_type": "code",
   "execution_count": null,
   "metadata": {},
   "outputs": [],
   "source": [
    "saved_model_path='C:/Users/33783/Desktop/start_deep/start_deep/Projet_ML/test_v4'\n",
    "net = m.BaseNet_v4()\n",
    "net.load_state_dict(torch.load(saved_model_path))"
   ]
  },
  {
   "cell_type": "code",
   "execution_count": null,
   "metadata": {},
   "outputs": [],
   "source": [
    "cv2.destroyAllWindows() \n",
    "# load the image and define the window width and height\n",
    "from PIL import Image\n",
    "from matplotlib import cm\n",
    "image = cv2.imread(\"C:/Users/33783/Desktop/start_deep/start_deep/Projet_ML/test.jpg\")\n",
    "(winW, winH) = (36, 36)\n",
    "transform = transforms.Compose(\n",
    "    [transforms.Grayscale(), \n",
    "     transforms.ToTensor(), \n",
    "     transforms.Normalize(mean=(0,),std=(1,))])\n",
    "face_detected=0\n",
    "layer=0\n",
    "color_face=(255,0,0)\n",
    "color_noFace=(0, 255, 0)\n",
    "sleep=0.0015\n",
    "detected_faces=[]\n",
    "sc=1.2\n",
    "all_x=[]\n",
    "all_y=[]\n",
    "all_layers=[]\n",
    "all_prob=[]\n",
    "\n",
    "# loop over the image pyramid\n",
    "for resized in h.pyramid(image, scale=sc):\n",
    "    \n",
    "    # loop over the sliding window for each layer of the pyramid\n",
    "    \n",
    "    \n",
    "    for (x, y, window) in h.sliding_window(resized, stepSize=10, windowSize=(winW, winH)):\n",
    "        # if the window does not meet our desired window size, ignore it\n",
    "        if window.shape[0] != winH or window.shape[1] != winW:\n",
    "            continue\n",
    "\n",
    "        # THIS IS WHERE YOU WOULD PROCESS YOUR WINDOW, SUCH AS APPLYING A\n",
    "        # MACHINE LEARNING CLASSIFIER TO CLASSIFY THE CONTENTS OF THE\n",
    "        # WINDOW\n",
    "        color=color_noFace\n",
    "        sleep=0.005\n",
    "\n",
    "        im = Image.fromarray(window.astype('uint8'), 'RGB')\n",
    "        im=transform(im)\n",
    "        im = im.unsqueeze(0)\n",
    "        outputs=net(im)\n",
    "        prob=torch.nn.functional.softmax(outputs, dim=1).detach()[0][1].numpy()\n",
    "        #print(prob)\n",
    "        y_pred_softmax = torch.log_softmax(outputs, dim = 1)\n",
    "        _, y_pred_tags = torch.max(y_pred_softmax, dim = 1)\n",
    "        prediction=np.array(y_pred_tags)\n",
    " \n",
    "        new_face=[]\n",
    "        if prediction==1 and prob>0.9:\n",
    "            \n",
    "            face_detected+=1\n",
    "            #top left corner of the window\n",
    "            x1=x*pow(sc,layer)\n",
    "            y1=y*pow(sc,layer)\n",
    "            #middle of the window\n",
    "            x2=x1+(winW*pow(sc,layer)/2)\n",
    "            y2=y1+(winH*pow(sc,layer)/2)\n",
    "            all_x.append(x2)\n",
    "            all_y.append(y2)\n",
    "            all_layers.append(layer)\n",
    "            all_prob.append(prob)\n",
    "            \n",
    "            #print(new_face)\n",
    "            color=color_face\n",
    "            sleep=0.5\n",
    "        \n",
    "            \n",
    "        #draw the window\n",
    "        clone = resized.copy()\n",
    "        cv2.rectangle(clone, (x, y), (x + winW, y + winH), color, 2)\n",
    "        cv2.imshow(\"Window\", clone)\n",
    "        cv2.waitKey(1)\n",
    "        time.sleep(sleep)\n",
    "        \n",
    "    layer+=1\n",
    "        \n",
    "print(face_detected)\n",
    "cv2.waitKey(1)\n",
    "cv2.destroyAllWindows() \n",
    "\n"
   ]
  },
  {
   "cell_type": "code",
   "execution_count": null,
   "metadata": {},
   "outputs": [],
   "source": [
    "cv2.destroyAllWindows() \n",
    "\n",
    "img_clone= image.copy()\n",
    "\n",
    "for i in range(face_detected) : \n",
    "\n",
    "    cv2.rectangle(img_clone, ( int(all_x[i]), int(all_y[i]) ) , ( int(all_x[i]) +int(winW*pow(sc,all_layers[i])), int(all_y[i]) + int(winH*pow(sc,all_layers[i])) ), color_face, 2)\n",
    "    \n",
    "    \n",
    "    #x=all_x[i]+(winW*pow(sc,all_layers[i])/2)\n",
    "    #y=all_y[i]+(winH*pow(sc,all_layers[i])/2)\n",
    "    #cv2.circle(image, (int(x), int(y)), 1,color_face, 3)\n",
    "\n",
    "cv2.imshow(\"Layer\", img_clone)\n",
    "\n",
    "cv2.waitKey(1)\n",
    "#cv2.destroyAllWindows() \n"
   ]
  },
  {
   "cell_type": "code",
   "execution_count": null,
   "metadata": {},
   "outputs": [],
   "source": [
    "cv2.destroyAllWindows() \n",
    "plt.scatter(all_x,all_y)\n",
    "plt.show()\n",
    "data_set = np.dstack((all_x,all_y))\n",
    "data_set = data_set[0]\n",
    "nb_clusters=3\n",
    "model = KMeans(nb_clusters,random_state=0).fit(data_set)\n",
    "points_in_clusters=[0] * nb_clusters\n",
    "\n",
    "img_clone= image.copy()\n",
    "\n",
    "for point in data_set:\n",
    "    \n",
    "    if model.predict(point.reshape(1,-1)) == [0]:\n",
    "        plt.scatter(point[0], point[1], c='b')\n",
    "        points_in_clusters[0]+=1\n",
    "        \n",
    "    elif model.predict(point.reshape(1,-1)) == [1]:\n",
    "        plt.scatter(point[0], point[1], c='g')\n",
    "        points_in_clusters[1]+=1\n",
    "\n",
    "    elif model.predict(point.reshape(1,-1)) == [2]:\n",
    "        plt.scatter(point[0], point[1], c='r')\n",
    "        points_in_clusters[2]+=1\n",
    "    '''\n",
    "    elif model.predict(point.reshape(1,-1)) == [3]:\n",
    "        plt.scatter(point[0], point[1], c='y')\n",
    "        points_in_clusters[3]+=1\n",
    "        \n",
    "    '''\n",
    "print(points_in_clusters)\n",
    "colors=[(255,0,0),(0,255,0),(0,0,255),(55,100,50)]\n",
    "i=0\n",
    "for center in model.cluster_centers_:\n",
    "    \n",
    "    plt.scatter(center[0],center[1], marker='x')\n",
    "    #cv2.circle(image, (int(center[0]), int(center[1])),50,color_face, 3)\n",
    "    cv2.rectangle(img_clone, ( int(center[0])-36, int(center[1])-36 ) , (int(center[0])+36, int(center[1])+36 ), colors[i], 2)\n",
    "    i+=1\n",
    "    \n",
    "plt.show()\n",
    "cv2.imshow(\"Layer\", img_clone)\n",
    "cv2.waitKey(1)"
   ]
  },
  {
   "cell_type": "code",
   "execution_count": null,
   "metadata": {},
   "outputs": [],
   "source": [
    "cv2.destroyAllWindows() "
   ]
  },
  {
   "cell_type": "code",
   "execution_count": null,
   "metadata": {},
   "outputs": [],
   "source": []
  },
  {
   "cell_type": "code",
   "execution_count": null,
   "metadata": {},
   "outputs": [],
   "source": [
    "#cv2.destroyAllWindows() "
   ]
  },
  {
   "cell_type": "code",
   "execution_count": null,
   "metadata": {},
   "outputs": [],
   "source": [
    "from sklearn.cluster import KMeans\n",
    "p=KMeans(n_clusters=2, random_state=0).fit_predict(points)\n",
    "plt.scatter(points[:, 0], points[:, 1], c=p)\n",
    "plt.show()"
   ]
  },
  {
   "cell_type": "code",
   "execution_count": null,
   "metadata": {},
   "outputs": [],
   "source": []
  }
 ],
 "metadata": {
  "kernelspec": {
   "display_name": "Python 3",
   "language": "python",
   "name": "python3"
  },
  "language_info": {
   "codemirror_mode": {
    "name": "ipython",
    "version": 3
   },
   "file_extension": ".py",
   "mimetype": "text/x-python",
   "name": "python",
   "nbconvert_exporter": "python",
   "pygments_lexer": "ipython3",
   "version": "3.8.5"
  }
 },
 "nbformat": 4,
 "nbformat_minor": 4
}
