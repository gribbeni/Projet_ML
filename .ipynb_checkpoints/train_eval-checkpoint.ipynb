{
 "cells": [
  {
   "cell_type": "code",
   "execution_count": 1,
   "metadata": {},
   "outputs": [],
   "source": [
    "import numpy as np\n",
    "import torch\n",
    "import torchvision\n",
    "import torchvision.transforms as transforms\n",
    "from torch.utils.data.sampler import SubsetRandomSampler\n",
    "from torchsampler import ImbalancedDatasetSampler\n",
    "import matplotlib.pyplot as plt\n",
    "import os\n",
    "from torch.optim import Adam\n",
    "from torch.nn import CrossEntropyLoss\n",
    "from functools import reduce\n",
    "import torch.optim as optim\n",
    "import torch.nn as nn\n",
    "import torch.nn.functional as F\n",
    "from sklearn.metrics import f1_score\n",
    "from sklearn.metrics import recall_score\n",
    "from sklearn.metrics import precision_score\n",
    "from sklearn.metrics import confusion_matrix\n",
    "import pandas as pd\n",
    "import sklearn "
   ]
  },
  {
   "cell_type": "code",
   "execution_count": 2,
   "metadata": {},
   "outputs": [],
   "source": [
    "import loaders as l\n",
    "import models as m"
   ]
  },
  {
   "cell_type": "code",
   "execution_count": 6,
   "metadata": {},
   "outputs": [],
   "source": [
    "def calc_metrics_v1(net,loader,all_labels,all_predicted,show=True) : \n",
    "\n",
    "    for i, data in enumerate(loader, 0):\n",
    "            # get the inputs; data is a list of [inputs, labels]\n",
    "            inputs, labels = data\n",
    "            outputs = net(inputs)\n",
    "            y_pred_softmax = torch.log_softmax(outputs, dim = 1)\n",
    "            _, y_pred_tags = torch.max(y_pred_softmax, dim = 1)\n",
    "            all_predicted.extend(np.array(y_pred_tags))\n",
    "            all_labels.extend(np.array(labels))\n",
    "    \n",
    "    f1s=f1_score(all_labels,all_predicted,average='weighted')\n",
    "    prec=precision_score(all_labels,all_predicted,average='weighted')\n",
    "    rec=recall_score(all_labels,all_predicted,average='weighted')\n",
    "    cf_m=pd.DataFrame(sklearn.metrics.confusion_matrix(all_labels, all_predicted,normalize='true'))\n",
    "    \n",
    "    if show ==True : \n",
    "        print(\"f1_score \",f1s)\n",
    "        print(\"precision \",prec)\n",
    "        print(\"recall \",rec)\n",
    "        print(\"confusion matrix\\n\", cf_m)\n",
    "        \n",
    "    return f1s,prec,rec,cf_m"
   ]
  },
  {
   "cell_type": "code",
   "execution_count": 9,
   "metadata": {},
   "outputs": [],
   "source": [
    "def train_v1(net,criterion,optimizer,epochs,train_loader,valid_loader):\n",
    "    \n",
    "    all_labels=[]\n",
    "    all_predicted=[]\n",
    "    all_losses=[]\n",
    "    all_accuracies=[]\n",
    "    all_f1scores=[]\n",
    "    \n",
    "    for epoch in range(epochs):  # loop over the dataset multiple times\n",
    "\n",
    "        running_loss = 0.0\n",
    "        for n_batch,batch in enumerate(train_loader) : \n",
    "            # get the inputs; data is a list of [inputs, labels]\n",
    "            inputs, labels = batch\n",
    "\n",
    "            # zero the parameter gradients\n",
    "            optimizer.zero_grad()\n",
    "\n",
    "            # forward + backward + optimize\n",
    "            outputs = net(inputs)\n",
    "            loss = criterion(outputs, labels)\n",
    "\n",
    "            loss.backward()\n",
    "            optimizer.step()\n",
    "\n",
    "            all_labels.extend(np.array(labels))\n",
    "\n",
    "            _, predicted = torch.max(outputs.data, 1)\n",
    "            all_predicted.extend(np.array(predicted))\n",
    "\n",
    "            running_loss += loss.item()\n",
    "            if n_batch % 2000 == 1999:    # print every 10 mini-batches\n",
    "\n",
    "                #peut-être ça ne sert plus---------\n",
    "                y_pred_softmax = torch.log_softmax(outputs, dim = 1)\n",
    "                _, y_pred_tags = torch.max(y_pred_softmax, dim = 1)\n",
    "                outputs=np.array(y_pred_tags)\n",
    "                labels=np.array(labels)\n",
    "                #---------------------------------\n",
    "                all_losses.append(running_loss / n_batch)\n",
    "                f1 = calc_metrics_v1(net,valid_loader,all_labels,all_predicted,False)[0]\n",
    "                all_f1scores.append(f1)\n",
    "                print('[%2d, %2d] loss: %.3f f1_score on validation set : %.3f' %\n",
    "                      (epoch + 1, n_batch + 1, running_loss / n_batch,f1))\n",
    "\n",
    "                running_loss = 0.0\n",
    "            \n",
    "    \n",
    "    return all_labels,all_predicted,all_losses,all_accuracies,all_f1scores"
   ]
  },
  {
   "cell_type": "code",
   "execution_count": null,
   "metadata": {},
   "outputs": [],
   "source": []
  },
  {
   "cell_type": "code",
   "execution_count": 8,
   "metadata": {},
   "outputs": [
    {
     "name": "stdout",
     "output_type": "stream",
     "text": [
      "BaseNet(\n",
      "  (conv1): Conv2d(1, 6, kernel_size=(5, 5), stride=(1, 1))\n",
      "  (conv2): Conv2d(6, 16, kernel_size=(5, 5), stride=(1, 1))\n",
      "  (fc1): Linear(in_features=576, out_features=120, bias=True)\n",
      "  (fc2): Linear(in_features=120, out_features=84, bias=True)\n",
      "  (fc3): Linear(in_features=84, out_features=10, bias=True)\n",
      ")\n",
      "[ 1, 2000] loss: 0.529 f1_score on validation set : 0.788\n",
      "[ 2, 2000] loss: 0.151 f1_score on validation set : 0.870\n"
     ]
    },
    {
     "data": {
      "text/plain": [
       "[<matplotlib.lines.Line2D at 0x25d556705b0>]"
      ]
     },
     "execution_count": 8,
     "metadata": {},
     "output_type": "execute_result"
    },
    {
     "data": {
      "image/png": "[encoded data removed]",
      "text/plain": [
       "<Figure size 432x288 with 1 Axes>"
      ]
     },
     "metadata": {
      "needs_background": "light"
     },
     "output_type": "display_data"
    }
   ],
   "source": [
    "\n",
    "'''\n",
    "train_dir = 'C:/Users/33783/Desktop/start_deep/start_deep/train_images'\n",
    "test_dir = 'C:/Users/33783/Desktop/start_deep/start_deep/test_images'\n",
    "\n",
    "transform = transforms.Compose(\n",
    "    [transforms.Grayscale(), \n",
    "     transforms.ToTensor(), \n",
    "     transforms.Normalize(mean=(0,),std=(1,))])\n",
    "\n",
    "valid_size = 0.2\n",
    "batch_size = 32\n",
    "\n",
    "train_loader,valid_loader,test_loader=l.make_all_loaders(train_dir,test_dir,transform,valid_size,batch_size)\n",
    "classes = ('noface','face')\n",
    "\n",
    "net = m.BaseNet()\n",
    "print(net)\n",
    "\n",
    "criterion = nn.CrossEntropyLoss()\n",
    "optimizer = optim.SGD(net.parameters(), lr=0.001, momentum=0.9)\n",
    "\n",
    "epochs=2\n",
    "#Training\n",
    "\n",
    "all_labels,all_predicted,all_losses,all_accuracies,all_f1scores= train_v1(net,criterion,optimizer,epochs,train_loader,valid_loader)\n",
    "            \n",
    "plt.plot(all_losses, color='blue')\n",
    "plt.plot(all_f1scores, color='red')\n",
    "'''"
   ]
  },
  {
   "cell_type": "code",
   "execution_count": null,
   "metadata": {},
   "outputs": [],
   "source": []
  },
  {
   "cell_type": "code",
   "execution_count": null,
   "metadata": {},
   "outputs": [],
   "source": []
  }
 ],
 "metadata": {
  "kernelspec": {
   "display_name": "Python 3",
   "language": "python",
   "name": "python3"
  },
  "language_info": {
   "codemirror_mode": {
    "name": "ipython",
    "version": 3
   },
   "file_extension": ".py",
   "mimetype": "text/x-python",
   "name": "python",
   "nbconvert_exporter": "python",
   "pygments_lexer": "ipython3",
   "version": "3.8.5"
  }
 },
 "nbformat": 4,
 "nbformat_minor": 4
}
