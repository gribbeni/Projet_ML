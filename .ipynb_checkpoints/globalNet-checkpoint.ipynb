{
 "cells": [
  {
   "cell_type": "code",
   "execution_count": 1,
   "metadata": {},
   "outputs": [],
   "source": [
    "import numpy as np\n",
    "import torch\n",
    "import torchvision\n",
    "import torchvision.transforms as transforms\n",
    "from torch.utils.data.sampler import SubsetRandomSampler\n",
    "from torchsampler import ImbalancedDatasetSampler\n",
    "import matplotlib.pyplot as plt\n",
    "import os\n",
    "from torch.optim import Adam\n",
    "from torch.nn import CrossEntropyLoss\n",
    "from functools import reduce\n",
    "import torch.optim as optim\n",
    "import torch.nn as nn\n",
    "import torch.nn.functional as F\n",
    "from sklearn.metrics import f1_score\n",
    "from sklearn.metrics import recall_score\n",
    "from sklearn.metrics import precision_score\n",
    "from sklearn.metrics import confusion_matrix\n",
    "import pandas as pd\n",
    "import sklearn \n",
    "from torch.autograd import Variable\n",
    "from sklearn.cluster import KMeans"
   ]
  },
  {
   "cell_type": "code",
   "execution_count": 2,
   "metadata": {},
   "outputs": [],
   "source": [
    "import loaders as l\n",
    "import models as m\n",
    "import train_eval as te"
   ]
  },
  {
   "cell_type": "code",
   "execution_count": 3,
   "metadata": {},
   "outputs": [],
   "source": [
    "import cv2\n",
    "from sklearn.cluster import MeanShift, estimate_bandwidth"
   ]
  },
  {
   "cell_type": "code",
   "execution_count": 4,
   "metadata": {},
   "outputs": [],
   "source": [
    "\n",
    "from ImageClassification import helpers as h\n",
    "import argparse\n",
    "import time"
   ]
  },
  {
   "cell_type": "code",
   "execution_count": 13,
   "metadata": {},
   "outputs": [
    {
     "data": {
      "text/plain": [
       "<All keys matched successfully>"
      ]
     },
     "execution_count": 13,
     "metadata": {},
     "output_type": "execute_result"
    }
   ],
   "source": [
    "saved_model_path='C:/Users/33783/Desktop/start_deep/start_deep/Projet_ML/test_v2'\n",
    "net = m.BaseNet_v2()\n",
    "net.load_state_dict(torch.load(saved_model_path))"
   ]
  },
  {
   "cell_type": "code",
   "execution_count": 39,
   "metadata": {},
   "outputs": [
    {
     "name": "stdout",
     "output_type": "stream",
     "text": [
      "2\n"
     ]
    }
   ],
   "source": [
    "cv2.destroyAllWindows() \n",
    "# load the image and define the window width and height\n",
    "from PIL import Image\n",
    "from matplotlib import cm\n",
    "image = cv2.imread(\"C:/Users/33783/Desktop/start_deep/start_deep/Projet_ML/train.jpg\")\n",
    "(winW, winH) = (36, 36)\n",
    "transform = transforms.Compose(\n",
    "    [transforms.Grayscale(), \n",
    "     transforms.ToTensor(), \n",
    "     transforms.Normalize(mean=(0,),std=(1,))])\n",
    "face_detected=0\n",
    "layer=0\n",
    "color_face=(255,0,0)\n",
    "color_noFace=(0, 255, 0)\n",
    "sleep=0.0015\n",
    "detected_faces=[]\n",
    "sc=1.2\n",
    "centers=[]\n",
    "top_left=[]\n",
    "all_x=[]\n",
    "all_y=[]\n",
    "all_layers=[]\n",
    "all_prob=[]\n",
    "sliding_step=10\n",
    "\n",
    "# loop over the image pyramid\n",
    "for resized in h.pyramid(image, scale=sc):\n",
    "    \n",
    "    # loop over the sliding window for each layer of the pyramid\n",
    "    \n",
    "    \n",
    "    for (x, y, window) in h.sliding_window(resized, stepSize=sliding_step, windowSize=(winW, winH)):\n",
    "        # if the window does not meet our desired window size, ignore it\n",
    "        if window.shape[0] != winH or window.shape[1] != winW:\n",
    "            continue\n",
    "\n",
    "        # THIS IS WHERE YOU WOULD PROCESS YOUR WINDOW, SUCH AS APPLYING A\n",
    "        # MACHINE LEARNING CLASSIFIER TO CLASSIFY THE CONTENTS OF THE\n",
    "        # WINDOW\n",
    "        color=color_noFace\n",
    "        sleep=0.005\n",
    "\n",
    "        im = Image.fromarray(window.astype('uint8'), 'RGB')\n",
    "        im=transform(im)\n",
    "        im = im.unsqueeze(0)\n",
    "        outputs=net(im)\n",
    "        prob=torch.nn.functional.softmax(outputs, dim=1).detach()[0][1].numpy()\n",
    "        #print(prob)\n",
    "        y_pred_softmax = torch.log_softmax(outputs, dim = 1)\n",
    "        _, y_pred_tags = torch.max(y_pred_softmax, dim = 1)\n",
    "        prediction=np.array(y_pred_tags)\n",
    " \n",
    "        new_face=[]\n",
    "        if prediction==1 and prob>0.9:\n",
    "            \n",
    "            face_detected+=1\n",
    "            #top left corner of the window\n",
    "            x1=int(x*pow(sc,layer))\n",
    "            y1=int(y*pow(sc,layer))\n",
    "            top_left.append((x1,y1))\n",
    "            #middle of the window\n",
    "            x2=int(x1+(winW*pow(sc,layer)/2))\n",
    "            y2=int(y1+(winH*pow(sc,layer)/2))\n",
    "            centers.append((x2,y2))\n",
    "            all_layers.append(layer)\n",
    "            all_prob.append(prob)\n",
    "            \n",
    "            #print(new_face)\n",
    "            color=color_face\n",
    "            sleep=0.5\n",
    "        \n",
    "            \n",
    "        #draw the window\n",
    "        clone = resized.copy()\n",
    "        cv2.rectangle(clone, (x, y), (x + winW, y + winH), color, 2)\n",
    "        cv2.imshow(\"Window\", clone)\n",
    "        cv2.waitKey(1)\n",
    "        time.sleep(sleep)\n",
    "        \n",
    "    layer+=1\n",
    "        \n",
    "print(face_detected)\n",
    "cv2.waitKey(1)\n",
    "cv2.destroyAllWindows() \n",
    "\n"
   ]
  },
  {
   "cell_type": "code",
   "execution_count": 42,
   "metadata": {},
   "outputs": [
    {
     "data": {
      "text/plain": [
       "-1"
      ]
     },
     "execution_count": 42,
     "metadata": {},
     "output_type": "execute_result"
    }
   ],
   "source": [
    "cv2.destroyAllWindows() \n",
    "\n",
    "img_clone= image.copy()\n",
    "\n",
    "for i in range(face_detected) : \n",
    "\n",
    "    cv2.rectangle(img_clone, top_left[i] , ( top_left[i][0] +int(winW*pow(sc,all_layers[i])), top_left[i][1] + int(winH*pow(sc,all_layers[i])) ), color_face, 2)\n",
    "    \n",
    "    \n",
    "    #x=all_x[i]+(winW*pow(sc,all_layers[i])/2)\n",
    "    #y=all_y[i]+(winH*pow(sc,all_layers[i])/2)\n",
    "    #cv2.circle(image, (int(x), int(y)), 1,color_face, 3)\n",
    "\n",
    "cv2.imshow(\"Layer\", img_clone)\n",
    "\n",
    "cv2.waitKey(1)\n",
    "#cv2.destroyAllWindows() \n"
   ]
  },
  {
   "cell_type": "code",
   "execution_count": 46,
   "metadata": {},
   "outputs": [
    {
     "ename": "AttributeError",
     "evalue": "'list' object has no attribute 'tolist'",
     "output_type": "error",
     "traceback": [
      "\u001b[1;31m---------------------------------------------------------------------------\u001b[0m",
      "\u001b[1;31mAttributeError\u001b[0m                            Traceback (most recent call last)",
      "\u001b[1;32m<ipython-input-46-e3a2cee6cbf8>\u001b[0m in \u001b[0;36m<module>\u001b[1;34m\u001b[0m\n\u001b[0;32m      2\u001b[0m \u001b[0mimg_clone\u001b[0m\u001b[1;33m=\u001b[0m \u001b[0mimage\u001b[0m\u001b[1;33m.\u001b[0m\u001b[0mcopy\u001b[0m\u001b[1;33m(\u001b[0m\u001b[1;33m)\u001b[0m\u001b[1;33m\u001b[0m\u001b[1;33m\u001b[0m\u001b[0m\n\u001b[0;32m      3\u001b[0m \u001b[0mdata\u001b[0m\u001b[1;33m=\u001b[0m\u001b[0mcenters\u001b[0m\u001b[1;33m\u001b[0m\u001b[1;33m\u001b[0m\u001b[0m\n\u001b[1;32m----> 4\u001b[1;33m \u001b[0mdataset\u001b[0m\u001b[1;33m=\u001b[0m\u001b[0mpd\u001b[0m\u001b[1;33m.\u001b[0m\u001b[0mDataFrame\u001b[0m\u001b[1;33m(\u001b[0m\u001b[1;33m[\u001b[0m\u001b[0mall_layers\u001b[0m\u001b[1;33m,\u001b[0m\u001b[0mdata\u001b[0m\u001b[1;33m.\u001b[0m\u001b[0mtolist\u001b[0m\u001b[1;33m(\u001b[0m\u001b[1;33m)\u001b[0m\u001b[1;33m]\u001b[0m\u001b[1;33m)\u001b[0m\u001b[1;33m\u001b[0m\u001b[1;33m\u001b[0m\u001b[0m\n\u001b[0m\u001b[0;32m      5\u001b[0m \u001b[0mprint\u001b[0m\u001b[1;33m(\u001b[0m\u001b[0mdataset\u001b[0m\u001b[1;33m)\u001b[0m\u001b[1;33m\u001b[0m\u001b[1;33m\u001b[0m\u001b[0m\n\u001b[0;32m      6\u001b[0m \u001b[1;33m\u001b[0m\u001b[0m\n",
      "\u001b[1;31mAttributeError\u001b[0m: 'list' object has no attribute 'tolist'"
     ]
    }
   ],
   "source": [
    "cv2.destroyAllWindows() \n",
    "img_clone= image.copy()\n",
    "data=centers\n",
    "   \n",
    "bandwidth = estimate_bandwidth(data, quantile=0.2)\n",
    "\n",
    "ms = MeanShift(bandwidth=bandwidth, bin_seeding=True,cluster_all=False)\n",
    "ms.fit(data)\n",
    "labels = ms.labels_\n",
    "cluster_centers = ms.cluster_centers_\n",
    "\n",
    "labels_unique = np.unique(labels)\n",
    "n_clusters_ = len(labels_unique)\n",
    "\n",
    "print(\"number of estimated clusters : %d\" % n_clusters_)\n",
    "print(cluster_centers)\n",
    "\n",
    "colors=[(255,0,0),(0,255,0),(0,0,255),(55,100,50),(25,130,50)]\n",
    "i=0\n",
    "for center in cluster_centers:\n",
    "    \n",
    "    cv2.circle(img_clone, (int(center[0]), int(center[1])),3,colors[i], 5)\n",
    "    cv2.rectangle(img_clone, ( int(center[0])-36, int(center[1])-36 ) , (int(center[0])+36, int(center[1])+36 ), colors[i], 2)\n",
    "    i+=1\n",
    "    i%=len(colors)\n",
    "    \n",
    "for j in range(len(data)) : \n",
    "    cv2.circle(img_clone,data[j],3,colors[0], 2)\n",
    "    \n",
    "plt.show()\n",
    "cv2.imshow(\"Layer\", img_clone)\n",
    "cv2.waitKey(1)\n",
    "\n"
   ]
  },
  {
   "cell_type": "code",
   "execution_count": null,
   "metadata": {},
   "outputs": [],
   "source": []
  },
  {
   "cell_type": "code",
   "execution_count": 32,
   "metadata": {},
   "outputs": [
    {
     "data": {
      "text/plain": [
       "-1"
      ]
     },
     "execution_count": 32,
     "metadata": {},
     "output_type": "execute_result"
    }
   ],
   "source": [
    "#cluster filtering\n",
    "\n",
    "cv2.destroyAllWindows() \n",
    "img_clone= image.copy()\n",
    "treshold=0.8*labels_unique[-1]\n",
    "\n",
    "dataçtoKeep=[]\n",
    "label_distribution=pd.Series(labels).value_counts()\n",
    "faces_clusters=label_distribution[label_distribution>treshold].index.to_list()\n",
    "face_centers=[cluster_centers[i] for i in faces_clusters]\n",
    "\n",
    "for center in face_centers:\n",
    "    \n",
    "    cv2.circle(img_clone, (int(center[0]), int(center[1])),3,color_face, 5)\n",
    "    cv2.rectangle(img_clone, ( int(center[0])-36, int(center[1])-36 ) , (int(center[0])+36, int(center[1])+36 ),color_face, 2)\n",
    "\n",
    "    \n",
    "plt.show()\n",
    "cv2.imshow(\"Faces\", img_clone)\n",
    "cv2.waitKey(1)"
   ]
  },
  {
   "cell_type": "code",
   "execution_count": null,
   "metadata": {},
   "outputs": [],
   "source": []
  },
  {
   "cell_type": "code",
   "execution_count": null,
   "metadata": {},
   "outputs": [],
   "source": [
    "cv2.destroyAllWindows() "
   ]
  },
  {
   "cell_type": "code",
   "execution_count": null,
   "metadata": {},
   "outputs": [],
   "source": []
  }
 ],
 "metadata": {
  "kernelspec": {
   "display_name": "Python 3",
   "language": "python",
   "name": "python3"
  },
  "language_info": {
   "codemirror_mode": {
    "name": "ipython",
    "version": 3
   },
   "file_extension": ".py",
   "mimetype": "text/x-python",
   "name": "python",
   "nbconvert_exporter": "python",
   "pygments_lexer": "ipython3",
   "version": "3.8.5"
  }
 },
 "nbformat": 4,
 "nbformat_minor": 4
}
